{
 "cells": [
  {
   "cell_type": "code",
   "execution_count": null,
   "id": "697692e2",
   "metadata": {},
   "outputs": [],
   "source": [
    "import typing\n",
    "import os\n",
    "import sys\n",
    "\n",
    "import cassandra.protocol\n",
    "import cassandra.cluster\n",
    "from pympler.asizeof import asizeof\n",
    "\n",
    "import _cassarrow\n",
    "import cassarrow\n",
    "import cassarrow.impl"
   ]
  },
  {
   "cell_type": "code",
   "execution_count": null,
   "id": "ff7f8dcf",
   "metadata": {},
   "outputs": [],
   "source": [
    "QUERY = \"SELECT * FROM cassarrow.time_series WHERE event_date = '2019-10-02'\""
   ]
  },
  {
   "cell_type": "code",
   "execution_count": null,
   "id": "280401f2",
   "metadata": {},
   "outputs": [],
   "source": [
    "cluster = cassandra.cluster.Cluster()\n",
    "\n",
    "session = cluster.connect(\"cassarrow\")"
   ]
  },
  {
   "cell_type": "code",
   "execution_count": null,
   "id": "44a8fb7f",
   "metadata": {},
   "outputs": [],
   "source": [
    "def execute_default(session, query):\n",
    "    results = session.execute(query)\n",
    "    return list(results)"
   ]
  },
  {
   "cell_type": "code",
   "execution_count": null,
   "id": "4692fcac",
   "metadata": {},
   "outputs": [],
   "source": [
    "def execute_cassarrow(session, query):\n",
    "    with cassarrow.install_cassarrow(session) as cassarrow_session:\n",
    "        results = cassarrow_session.execute(query)\n",
    "    return cassarrow.result_set_to_table(results)"
   ]
  },
  {
   "cell_type": "code",
   "execution_count": null,
   "id": "e880f735",
   "metadata": {},
   "outputs": [],
   "source": [
    "%timeit execute_default(session, QUERY)"
   ]
  },
  {
   "cell_type": "code",
   "execution_count": null,
   "id": "9fe4e644",
   "metadata": {},
   "outputs": [],
   "source": [
    "%timeit execute_cassarrow(session, QUERY)"
   ]
  },
  {
   "cell_type": "code",
   "execution_count": null,
   "id": "d681f26d",
   "metadata": {},
   "outputs": [],
   "source": [
    "def get_binary(name: str) -> bytes:\n",
    "    full_name = os.path.join(\"tests\", \"data\", name)\n",
    "    with open(full_name, \"rb\") as fp:\n",
    "        return fp.read()\n",
    "\n",
    "\n",
    "data = get_binary(\"time_series/0011.bin\")"
   ]
  },
  {
   "cell_type": "code",
   "execution_count": null,
   "id": "12f15376",
   "metadata": {},
   "outputs": [],
   "source": [
    "def parse_arrow(data):\n",
    "    msg_arrow = cassarrow.impl.ArrowProtocolHandler.decode_message(5, {}, 3, 0, 8, data, None, [])\n",
    "    return msg_arrow.parsed_rows\n",
    "\n",
    "\n",
    "record_batch = parse_arrow(data)"
   ]
  },
  {
   "cell_type": "code",
   "execution_count": null,
   "id": "0f01af15",
   "metadata": {},
   "outputs": [],
   "source": [
    "def parse_tuple(data):\n",
    "    msg_arrow = cassandra.protocol._ProtocolHandler.decode_message(5, {}, 3, 0, 8, data, None, [])\n",
    "    return msg_arrow.parsed_rows\n",
    "\n",
    "\n",
    "tuples = parse_tuple(data)"
   ]
  },
  {
   "cell_type": "code",
   "execution_count": null,
   "id": "655bd8ea",
   "metadata": {},
   "outputs": [],
   "source": [
    "%timeit parse_arrow(data)"
   ]
  },
  {
   "cell_type": "code",
   "execution_count": null,
   "id": "6e6a8e07",
   "metadata": {},
   "outputs": [],
   "source": [
    "%timeit parse_tuple(data)"
   ]
  },
  {
   "cell_type": "code",
   "execution_count": null,
   "id": "16dae242",
   "metadata": {},
   "outputs": [],
   "source": [
    "asizeof(tuples) / asizeof(record_batch)"
   ]
  }
 ],
 "metadata": {
  "kernelspec": {
   "display_name": "Python 3 (ipykernel)",
   "language": "python",
   "name": "python3"
  },
  "language_info": {
   "codemirror_mode": {
    "name": "ipython",
    "version": 3
   },
   "file_extension": ".py",
   "mimetype": "text/x-python",
   "name": "python",
   "nbconvert_exporter": "python",
   "pygments_lexer": "ipython3",
   "version": "3.9.5"
  }
 },
 "nbformat": 4,
 "nbformat_minor": 5
}
