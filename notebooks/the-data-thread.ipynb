{
 "cells": [
  {
   "cell_type": "markdown",
   "metadata": {
    "slideshow": {
     "slide_type": "slide"
    }
   },
   "source": [
    "# Put Your Cassandra Python Driver On Steroids With Apache Arrow"
   ]
  },
  {
   "cell_type": "markdown",
   "metadata": {
    "slideshow": {
     "slide_type": "subslide"
    }
   },
   "source": [
    "## Topic of the day\n",
    "\n",
    "```\n",
    "+----------------------+  IO   +---------------+\n",
    "| Batch of raw records | ----> | Analytics Job |\n",
    "+----------------------+       +---------------+\n",
    "```"
   ]
  },
  {
   "cell_type": "markdown",
   "metadata": {
    "slideshow": {
     "slide_type": "subslide"
    }
   },
   "source": [
    "![numpy](https://raw.githubusercontent.com/numpy/numpy/main/branding/logo/primary/numpylogo.png)"
   ]
  },
  {
   "cell_type": "markdown",
   "metadata": {
    "slideshow": {
     "slide_type": "subslide"
    }
   },
   "source": [
    "![arrow](https://arrow.apache.org/img/arrow.png)"
   ]
  },
  {
   "cell_type": "markdown",
   "metadata": {
    "slideshow": {
     "slide_type": "subslide"
    }
   },
   "source": [
    "![cassandra](https://miro.medium.com/max/1200/1*wzm0JlomFfsBF3mkZJQN7A.png)"
   ]
  },
  {
   "cell_type": "code",
   "execution_count": 1,
   "metadata": {
    "pycharm": {
     "name": "#%%\n"
    },
    "slideshow": {
     "slide_type": "skip"
    }
   },
   "outputs": [
    {
     "name": "stdout",
     "output_type": "stream",
     "text": [
      "/Users/aandres/source/cassarrow\n"
     ]
    }
   ],
   "source": [
    "%cd .."
   ]
  },
  {
   "cell_type": "code",
   "execution_count": 2,
   "metadata": {
    "pycharm": {
     "name": "#%%\n"
    },
    "slideshow": {
     "slide_type": "skip"
    }
   },
   "outputs": [],
   "source": [
    "import os\n",
    "\n",
    "import cassandra.cluster\n",
    "import cassandra.protocol\n",
    "import humanize\n",
    "import pandas as pd\n",
    "import pyarrow as pa\n",
    "import pyarrow.compute as pc\n",
    "from pympler.asizeof import asizeof\n",
    "\n",
    "import cassarrow\n",
    "import cassarrow.impl"
   ]
  },
  {
   "cell_type": "markdown",
   "metadata": {
    "pycharm": {
     "name": "#%% md\n"
    },
    "slideshow": {
     "slide_type": "slide"
    }
   },
   "source": [
    "## Python Cassandra Driver"
   ]
  },
  {
   "cell_type": "code",
   "execution_count": 3,
   "metadata": {
    "pycharm": {
     "name": "#%%\n"
    },
    "slideshow": {
     "slide_type": "skip"
    }
   },
   "outputs": [],
   "source": [
    "MIGRATION = \"\"\"\n",
    "CREATE TABLE IF NOT EXISTS cassarrow.time_series\n",
    "(\n",
    "    event_date      date,\n",
    "    instrument_id   int,\n",
    "    event_timestamp timestamp,\n",
    "    value           double,\n",
    "    PRIMARY KEY (event_date, instrument_id, event_timestamp)\n",
    ");\n",
    "\"\"\""
   ]
  },
  {
   "cell_type": "code",
   "execution_count": null,
   "metadata": {
    "slideshow": {
     "slide_type": "subslide"
    }
   },
   "outputs": [],
   "source": [
    "QUERY = \"SELECT * FROM time_series WHERE event_date = '2019-10-02'\""
   ]
  },
  {
   "cell_type": "markdown",
   "metadata": {
    "slideshow": {
     "slide_type": "fragment"
    }
   },
   "source": [
    "```\n",
    "| event_date   |   instrument_id | event_timestamp     |      value |\n",
    "|:-------------|----------------:|:--------------------|-----------:|\n",
    "| 2019-10-02   |               1 | 2019-10-02 08:00:00 | 0.127755   |\n",
    "| 2019-10-02   |               1 | 2019-10-02 08:15:00 | 0.256553   |\n",
    "| 2019-10-02   |               1 | 2019-10-02 08:30:00 | 0.820371   |\n",
    "| 2019-10-02   |               1 | 2019-10-02 08:45:00 | 0.711016   |\n",
    "| 2019-10-02   |               1 | 2019-10-02 09:00:00 | 0.00108124 |\n",
    "```"
   ]
  },
  {
   "cell_type": "code",
   "execution_count": 4,
   "metadata": {
    "pycharm": {
     "name": "#%%\n"
    },
    "slideshow": {
     "slide_type": "subslide"
    }
   },
   "outputs": [],
   "source": [
    "cluster = cassandra.cluster.Cluster()\n",
    "session = cluster.connect(\"cassarrow\")"
   ]
  },
  {
   "cell_type": "code",
   "execution_count": 6,
   "metadata": {
    "pycharm": {
     "name": "#%%\n"
    },
    "slideshow": {
     "slide_type": "fragment"
    }
   },
   "outputs": [],
   "source": [
    "results = list(session.execute(QUERY))"
   ]
  },
  {
   "cell_type": "code",
   "execution_count": 7,
   "metadata": {
    "pycharm": {
     "name": "#%%\n"
    },
    "slideshow": {
     "slide_type": "fragment"
    }
   },
   "outputs": [
    {
     "data": {
      "text/plain": [
       "36963"
      ]
     },
     "execution_count": 7,
     "metadata": {},
     "output_type": "execute_result"
    }
   ],
   "source": [
    "len(results)"
   ]
  },
  {
   "cell_type": "code",
   "execution_count": 8,
   "metadata": {
    "pycharm": {
     "name": "#%%\n"
    },
    "slideshow": {
     "slide_type": "fragment"
    }
   },
   "outputs": [
    {
     "data": {
      "text/plain": [
       "Row(event_date=Date(18171), instrument_id=1, event_timestamp=datetime.datetime(2019, 10, 2, 8, 0), value=0.12775540988603173)"
      ]
     },
     "execution_count": 8,
     "metadata": {},
     "output_type": "execute_result"
    }
   ],
   "source": [
    "results[0]"
   ]
  },
  {
   "cell_type": "code",
   "execution_count": 10,
   "metadata": {
    "pycharm": {
     "name": "#%%\n"
    },
    "slideshow": {
     "slide_type": "fragment"
    }
   },
   "outputs": [
    {
     "data": {
      "text/plain": [
       "True"
      ]
     },
     "execution_count": 10,
     "metadata": {},
     "output_type": "execute_result"
    }
   ],
   "source": [
    "isinstance(results[0], tuple)"
   ]
  },
  {
   "cell_type": "markdown",
   "metadata": {
    "slideshow": {
     "slide_type": "fragment"
    }
   },
   "source": [
    "# 👎"
   ]
  },
  {
   "cell_type": "code",
   "execution_count": 11,
   "metadata": {
    "pycharm": {
     "name": "#%%\n"
    },
    "slideshow": {
     "slide_type": "subslide"
    }
   },
   "outputs": [
    {
     "data": {
      "text/plain": [
       "0.500400730152348"
      ]
     },
     "execution_count": 11,
     "metadata": {},
     "output_type": "execute_result"
    }
   ],
   "source": [
    "sum(row.value for row in results) / len(results)"
   ]
  },
  {
   "cell_type": "markdown",
   "metadata": {
    "slideshow": {
     "slide_type": "fragment"
    }
   },
   "source": [
    "# 😵"
   ]
  },
  {
   "cell_type": "code",
   "execution_count": 12,
   "metadata": {
    "pycharm": {
     "name": "#%%\n"
    },
    "slideshow": {
     "slide_type": "subslide"
    }
   },
   "outputs": [
    {
     "name": "stdout",
     "output_type": "stream",
     "text": [
      "1.84 ms ± 12.6 µs per loop (mean ± std. dev. of 7 runs, 1,000 loops each)\n"
     ]
    }
   ],
   "source": [
    "%timeit sum(row.value for row in results) / len(results)"
   ]
  },
  {
   "cell_type": "markdown",
   "metadata": {
    "slideshow": {
     "slide_type": "fragment"
    }
   },
   "source": [
    "# 🐢"
   ]
  },
  {
   "cell_type": "code",
   "execution_count": 13,
   "metadata": {
    "pycharm": {
     "name": "#%%\n"
    },
    "slideshow": {
     "slide_type": "subslide"
    }
   },
   "outputs": [
    {
     "data": {
      "text/plain": [
       "'13.3 MB'"
      ]
     },
     "execution_count": 13,
     "metadata": {},
     "output_type": "execute_result"
    }
   ],
   "source": [
    "actual_size = asizeof(results)\n",
    "humanize.naturalsize(actual_size)"
   ]
  },
  {
   "cell_type": "markdown",
   "metadata": {
    "slideshow": {
     "slide_type": "fragment"
    }
   },
   "source": [
    "```\n",
    "| column          | type      |   bits |   bytes |\n",
    "|:----------------|:----------|-------:|--------:|\n",
    "| event_date      | date      |     32 |       4 |\n",
    "| instrument_id   | int       |     32 |       4 |\n",
    "| event_timestamp | timestamp |     64 |       8 |\n",
    "| value           | double    |     64 |       8 |\n",
    "| total           | -         |    192 |      24 |\n",
    "```"
   ]
  },
  {
   "cell_type": "code",
   "execution_count": 51,
   "metadata": {
    "pycharm": {
     "name": "#%%\n"
    },
    "slideshow": {
     "slide_type": "fragment"
    }
   },
   "outputs": [
    {
     "data": {
      "text/plain": [
       "'866.3 KiB'"
      ]
     },
     "execution_count": 51,
     "metadata": {},
     "output_type": "execute_result"
    }
   ],
   "source": [
    "expected_size = len(results) * 24\n",
    "humanize.naturalsize(expected_size, True)"
   ]
  },
  {
   "cell_type": "code",
   "execution_count": 15,
   "metadata": {
    "pycharm": {
     "name": "#%%\n"
    },
    "slideshow": {
     "slide_type": "fragment"
    }
   },
   "outputs": [
    {
     "data": {
      "text/plain": [
       "15.01936170404639"
      ]
     },
     "execution_count": 15,
     "metadata": {},
     "output_type": "execute_result"
    }
   ],
   "source": [
    "actual_size / expected_size"
   ]
  },
  {
   "cell_type": "markdown",
   "metadata": {
    "slideshow": {
     "slide_type": "fragment"
    }
   },
   "source": [
    "# 💥"
   ]
  },
  {
   "cell_type": "code",
   "execution_count": 16,
   "metadata": {
    "pycharm": {
     "name": "#%%\n"
    },
    "slideshow": {
     "slide_type": "subslide"
    }
   },
   "outputs": [
    {
     "data": {
      "text/plain": [
       "cassandra.util.Date"
      ]
     },
     "execution_count": 16,
     "metadata": {},
     "output_type": "execute_result"
    }
   ],
   "source": [
    "type(results[0].event_date)"
   ]
  },
  {
   "cell_type": "code",
   "execution_count": 17,
   "metadata": {
    "pycharm": {
     "name": "#%%\n"
    },
    "slideshow": {
     "slide_type": "fragment"
    }
   },
   "outputs": [
    {
     "name": "stdout",
     "output_type": "stream",
     "text": [
      "AttributeError(\"'Date' object has no attribute 'strftime'\")\n"
     ]
    }
   ],
   "source": [
    "try:\n",
    "    results[0].event_date.strftime(\"%Y-%m-%d\")\n",
    "except AttributeError as e:\n",
    "    print(repr(e))"
   ]
  },
  {
   "cell_type": "markdown",
   "metadata": {
    "slideshow": {
     "slide_type": "fragment"
    }
   },
   "source": [
    "# 🤬"
   ]
  },
  {
   "cell_type": "markdown",
   "metadata": {
    "pycharm": {
     "name": "#%% md\n"
    },
    "slideshow": {
     "slide_type": "subslide"
    }
   },
   "source": [
    "### In Summary:\n",
    "\n",
    "* ❌ Not a great API for analytics\n",
    "* ❌ Slow\n",
    "* ❌ Uses a lot of memory\n",
    "* ❌ Unusual types"
   ]
  },
  {
   "cell_type": "markdown",
   "metadata": {
    "pycharm": {
     "name": "#%% md\n"
    },
    "slideshow": {
     "slide_type": "slide"
    }
   },
   "source": [
    "## The solution: `cassarrow`, convert raw data directly to Apache Arrow\n",
    "\n",
    "```\n",
    "+-------------------+  Network   +----------+  Python Driver   +--------+\n",
    "| Cassandra Cluster | ---------> | Raw Data | ---------------> | Tuples |\n",
    "+-------------------+            +----------+                  +--------+\n",
    "\n",
    "\n",
    "+-------------------+  Network   +----------+  C++ Code   +-------------+\n",
    "| Cassandra Cluster | ---------> | Raw Data | ----------> | Arrow Table |\n",
    "+-------------------+            +----------+             +-------------+\n",
    "\n",
    "\n",
    "```"
   ]
  },
  {
   "cell_type": "markdown",
   "metadata": {
    "pycharm": {
     "name": "#%% md\n"
    },
    "slideshow": {
     "slide_type": "subslide"
    }
   },
   "source": [
    "![Row to Column](https://arrow.apache.org/img/simd.png)"
   ]
  },
  {
   "cell_type": "markdown",
   "metadata": {
    "pycharm": {
     "name": "#%% md\n"
    },
    "slideshow": {
     "slide_type": "subslide"
    }
   },
   "source": [
    "### Step 1: Convert the cassandra metadata to an Arrow `Schema`\n",
    "\n"
   ]
  },
  {
   "cell_type": "markdown",
   "metadata": {
    "slideshow": {
     "slide_type": "subslide"
    }
   },
   "source": [
    "#### Native types\n",
    "```\n",
    "| Cassandra   | pyarrow            | Note         |\n",
    "|:------------|:-------------------|:-------------|\n",
    "| ascii       | pa.string()        |              |\n",
    "| bigint      | pa.int64()         |              |\n",
    "| blob        | pa.binary()        |              |\n",
    "| boolean     | pa.bool_()         |              |\n",
    "| date        | pa.date32()        |              |\n",
    "| decimal     |                    | Incompatible |\n",
    "| double      | pa.float64()       |              |\n",
    "| duration    | pa.duration(\"ns\")  |              |\n",
    "| float       | pa.float32()       |              |\n",
    "| int         | pa.int32()         |              |\n",
    "| smallint    | pa.int16()         |              |\n",
    "| text        | pa.string()        |              |\n",
    "| time        | pa.time64(\"ns\")    |              |\n",
    "| timestamp   | pa.timestamp(\"ms\") |              |\n",
    "| timeuuid    | pa.binary(16)      |              |\n",
    "| tinyint     | pa.int8()          |              |\n",
    "| uuid        | pa.binary(16)      |              |\n",
    "| varchar     | pa.string()        |              |\n",
    "| varint      |                    | Incompatible |\n",
    "```"
   ]
  },
  {
   "cell_type": "markdown",
   "metadata": {
    "slideshow": {
     "slide_type": "subslide"
    }
   },
   "source": [
    "#### Collections / UDT\n",
    "```\n",
    "| Cassandra   | pyarrow   | Note   |\n",
    "|:------------|:----------|:-------|\n",
    "| list        | pa.list_  |        |\n",
    "| map         | pa.map_   |        |\n",
    "| set         | pa.list_  |        |\n",
    "| udt         | pa.struct |        |\n",
    "```"
   ]
  },
  {
   "cell_type": "markdown",
   "metadata": {
    "pycharm": {
     "name": "#%% md\n"
    },
    "slideshow": {
     "slide_type": "subslide"
    }
   },
   "source": [
    "### Step 2: Converting the data\n",
    "\n",
    "```\n",
    "+------------------+     +----------------+           +--------------+     +-------+\n",
    "|  Date32Builder   | --> |  Date32Array   | ------+-> | Record Batch | --> | Table |\n",
    "+------------------+     +----------------+       |   +--------------+     +-------+\n",
    "                                                  |\n",
    "                                                  |\n",
    "                                                  |\n",
    "+------------------+     +----------------+       |\n",
    "| TimestampBuilder | --> | TimestampArray | ------+\n",
    "+------------------+     +----------------+       |\n",
    "                                                  |\n",
    "                                                  |\n",
    "                                                  |\n",
    "+------------------+     +----------------+       |\n",
    "|  DoubleBuilder   | --> |  DoubleArray   | ------+\n",
    "+------------------+     +----------------+       |\n",
    "                                                  |\n",
    "                                                  |\n",
    "                                                  |\n",
    "+------------------+     +----------------+       |\n",
    "|   Int32Builder   | --> |   Int32Array   | ------+\n",
    "+------------------+     +----------------+\n",
    "```"
   ]
  },
  {
   "cell_type": "markdown",
   "metadata": {
    "slideshow": {
     "slide_type": "subslide"
    }
   },
   "source": [
    "### Demo"
   ]
  },
  {
   "cell_type": "code",
   "execution_count": 56,
   "metadata": {
    "pycharm": {
     "name": "#%%\n"
    },
    "slideshow": {
     "slide_type": "subslide"
    }
   },
   "outputs": [],
   "source": [
    "with cassarrow.install_cassarrow(session) as cassarrow_session:\n",
    "    table = cassarrow.result_set_to_table(cassarrow_session.execute(QUERY))"
   ]
  },
  {
   "cell_type": "code",
   "execution_count": 48,
   "metadata": {
    "pycharm": {
     "name": "#%%\n"
    },
    "slideshow": {
     "slide_type": "fragment"
    }
   },
   "outputs": [
    {
     "data": {
      "text/plain": [
       "pyarrow.lib.Table"
      ]
     },
     "execution_count": 48,
     "metadata": {},
     "output_type": "execute_result"
    }
   ],
   "source": [
    "type(table)"
   ]
  },
  {
   "cell_type": "code",
   "execution_count": 54,
   "metadata": {
    "pycharm": {
     "name": "#%%\n"
    },
    "slideshow": {
     "slide_type": "fragment"
    }
   },
   "outputs": [
    {
     "data": {
      "text/plain": [
       "<pyarrow.DoubleScalar: 0.5004007301523449>"
      ]
     },
     "execution_count": 54,
     "metadata": {},
     "output_type": "execute_result"
    }
   ],
   "source": [
    "pc.mean(table[\"value\"])"
   ]
  },
  {
   "cell_type": "code",
   "execution_count": 21,
   "metadata": {
    "pycharm": {
     "name": "#%%\n"
    },
    "slideshow": {
     "slide_type": "fragment"
    }
   },
   "outputs": [
    {
     "name": "stdout",
     "output_type": "stream",
     "text": [
      "16.1 µs ± 223 ns per loop (mean ± std. dev. of 7 runs, 100,000 loops each)\n"
     ]
    }
   ],
   "source": [
    "%timeit pc.mean(table['value']).as_py()"
   ]
  },
  {
   "cell_type": "code",
   "execution_count": 22,
   "metadata": {
    "pycharm": {
     "name": "#%%\n"
    },
    "slideshow": {
     "slide_type": "fragment"
    }
   },
   "outputs": [
    {
     "data": {
      "text/plain": [
       "'887.1 kB'"
      ]
     },
     "execution_count": 22,
     "metadata": {},
     "output_type": "execute_result"
    }
   ],
   "source": [
    "humanize.naturalsize(table.nbytes)"
   ]
  },
  {
   "cell_type": "code",
   "execution_count": 57,
   "metadata": {
    "slideshow": {
     "slide_type": "fragment"
    }
   },
   "outputs": [
    {
     "data": {
      "text/plain": [
       "0"
      ]
     },
     "execution_count": 57,
     "metadata": {},
     "output_type": "execute_result"
    }
   ],
   "source": [
    "table.nbytes - expected_size"
   ]
  },
  {
   "cell_type": "markdown",
   "metadata": {
    "pycharm": {
     "name": "#%% md\n"
    },
    "slideshow": {
     "slide_type": "subslide"
    }
   },
   "source": [
    "### Arrow summary\n",
    "\n",
    "* ✅ Great API for analytics\n",
    "* ✅ Fast\n",
    "* ✅ Memory efficient\n",
    "* ✅ No special/proprietary types"
   ]
  },
  {
   "cell_type": "markdown",
   "metadata": {
    "pycharm": {
     "name": "#%% md\n"
    },
    "slideshow": {
     "slide_type": "slide"
    }
   },
   "source": [
    "## Benchmark"
   ]
  },
  {
   "cell_type": "markdown",
   "metadata": {
    "slideshow": {
     "slide_type": "subslide"
    }
   },
   "source": [
    "### Executing a query"
   ]
  },
  {
   "cell_type": "code",
   "execution_count": 25,
   "metadata": {
    "pycharm": {
     "name": "#%%\n"
    },
    "slideshow": {
     "slide_type": "fragment"
    }
   },
   "outputs": [],
   "source": [
    "def execute_default(session, query):\n",
    "    results = session.execute(query)\n",
    "    return list(results)"
   ]
  },
  {
   "cell_type": "code",
   "execution_count": 26,
   "metadata": {
    "pycharm": {
     "name": "#%%\n"
    },
    "slideshow": {
     "slide_type": "fragment"
    }
   },
   "outputs": [],
   "source": [
    "def execute_cassarrow(session, query):\n",
    "    with cassarrow.install_cassarrow(session) as cassarrow_session:\n",
    "        results = cassarrow_session.execute(query)\n",
    "    return cassarrow.result_set_to_table(results)"
   ]
  },
  {
   "cell_type": "code",
   "execution_count": 27,
   "metadata": {
    "pycharm": {
     "name": "#%%\n"
    },
    "slideshow": {
     "slide_type": "fragment"
    }
   },
   "outputs": [
    {
     "name": "stdout",
     "output_type": "stream",
     "text": [
      "167 ms ± 11.5 ms per loop (mean ± std. dev. of 7 runs, 1 loop each)\n"
     ]
    }
   ],
   "source": [
    "%timeit execute_default(session, QUERY)"
   ]
  },
  {
   "cell_type": "code",
   "execution_count": 28,
   "metadata": {
    "pycharm": {
     "name": "#%%\n"
    },
    "slideshow": {
     "slide_type": "fragment"
    }
   },
   "outputs": [
    {
     "name": "stdout",
     "output_type": "stream",
     "text": [
      "108 ms ± 7.44 ms per loop (mean ± std. dev. of 7 runs, 10 loops each)\n"
     ]
    }
   ],
   "source": [
    "%timeit execute_cassarrow(session, QUERY)"
   ]
  },
  {
   "cell_type": "code",
   "execution_count": 29,
   "metadata": {
    "pycharm": {
     "name": "#%%\n"
    },
    "slideshow": {
     "slide_type": "skip"
    }
   },
   "outputs": [],
   "source": [
    "def get_binary(name: str) -> bytes:\n",
    "    full_name = os.path.join(\"tests\", \"select\", name)\n",
    "    with open(full_name, \"rb\") as fp:\n",
    "        return fp.read()\n",
    "\n",
    "\n",
    "data = get_binary(\"time_series/0011.bin\")"
   ]
  },
  {
   "cell_type": "markdown",
   "metadata": {
    "slideshow": {
     "slide_type": "subslide"
    }
   },
   "source": [
    "### Processing Raw Data"
   ]
  },
  {
   "cell_type": "code",
   "execution_count": 59,
   "metadata": {
    "pycharm": {
     "name": "#%%\n"
    },
    "slideshow": {
     "slide_type": "fragment"
    }
   },
   "outputs": [],
   "source": [
    "def parse_default(data: bytes) -> list[tuple]:\n",
    "    msg_arrow = cassandra.protocol._ProtocolHandler.decode_message(\n",
    "        5, {}, 3, 0, 8, data, None, []\n",
    "    )\n",
    "    return msg_arrow.parsed_rows"
   ]
  },
  {
   "cell_type": "code",
   "execution_count": 60,
   "metadata": {
    "pycharm": {
     "name": "#%%\n"
    },
    "slideshow": {
     "slide_type": "fragment"
    }
   },
   "outputs": [],
   "source": [
    "def parse_cassarrow(data) -> pa.RecordBatch:\n",
    "    msg_arrow = cassarrow.impl.ArrowProtocolHandler.decode_message(\n",
    "        5, {}, 3, 0, 8, data, None, []\n",
    "    )\n",
    "    return msg_arrow.parsed_rows"
   ]
  },
  {
   "cell_type": "code",
   "execution_count": 61,
   "metadata": {
    "pycharm": {
     "name": "#%%\n"
    },
    "slideshow": {
     "slide_type": "fragment"
    }
   },
   "outputs": [
    {
     "name": "stdout",
     "output_type": "stream",
     "text": [
      "20.3 ms ± 116 µs per loop (mean ± std. dev. of 7 runs, 10 loops each)\n"
     ]
    }
   ],
   "source": [
    "%timeit parse_default(data)"
   ]
  },
  {
   "cell_type": "code",
   "execution_count": 62,
   "metadata": {
    "pycharm": {
     "name": "#%%\n"
    },
    "slideshow": {
     "slide_type": "fragment"
    }
   },
   "outputs": [
    {
     "name": "stdout",
     "output_type": "stream",
     "text": [
      "2.09 ms ± 8.23 µs per loop (mean ± std. dev. of 7 runs, 100 loops each)\n"
     ]
    }
   ],
   "source": [
    "%timeit parse_cassarrow(data)"
   ]
  },
  {
   "cell_type": "markdown",
   "metadata": {
    "slideshow": {
     "slide_type": "slide"
    }
   },
   "source": [
    "# 👎 ➡️ 👍\n",
    "# 😵 ➡️ 😌\n",
    "# 🐢 ➡️ 🐇\n",
    "# 💥 ➡️ 💧\n",
    "# 🤬 ➡️ 🌞"
   ]
  },
  {
   "cell_type": "markdown",
   "metadata": {
    "slideshow": {
     "slide_type": "slide"
    }
   },
   "source": [
    "# Conclusion\n",
    "\n",
    "* Check the code on https://github.com/0x26res/cassarrow\n",
    "* Install it: `pip install cassarrow`\n",
    "* Apply the same approach to a similar problem!"
   ]
  }
 ],
 "metadata": {
  "celltoolbar": "Slideshow",
  "kernelspec": {
   "display_name": "Python 3 (ipykernel)",
   "language": "python",
   "name": "python3"
  },
  "language_info": {
   "codemirror_mode": {
    "name": "ipython",
    "version": 3
   },
   "file_extension": ".py",
   "mimetype": "text/x-python",
   "name": "python",
   "nbconvert_exporter": "python",
   "pygments_lexer": "ipython3",
   "version": "3.10.4"
  }
 },
 "nbformat": 4,
 "nbformat_minor": 1
}
