{
 "cells": [
  {
   "cell_type": "markdown",
   "metadata": {},
   "source": [
    "# Put Your Cassandra Python Driver On Steroids With Apache Arrow"
   ]
  },
  {
   "cell_type": "markdown",
   "metadata": {},
   "source": [
    "\n",
    "# Topic of the day\n",
    "\n",
    "```\n",
    "+----------------------------+  IO   +---------------+\n",
    "| Batch of records as binary | ----> | Analytics Job |\n",
    "+----------------------------+       +---------------+\n",
    "```"
   ]
  },
  {
   "cell_type": "code",
   "execution_count": null,
   "metadata": {
    "pycharm": {
     "name": "#%%\n"
    }
   },
   "outputs": [],
   "source": [
    "%cd .."
   ]
  },
  {
   "cell_type": "code",
   "execution_count": null,
   "metadata": {
    "pycharm": {
     "name": "#%%\n"
    }
   },
   "outputs": [],
   "source": [
    "import os\n",
    "\n",
    "import cassandra.cluster\n",
    "import cassandra.protocol\n",
    "import humanize\n",
    "import pandas as pd\n",
    "import pyarrow as pa\n",
    "import pyarrow.compute as pc\n",
    "from pympler.asizeof import asizeof\n",
    "\n",
    "import cassarrow\n",
    "import cassarrow.impl"
   ]
  },
  {
   "cell_type": "markdown",
   "metadata": {
    "pycharm": {
     "name": "#%% md\n"
    }
   },
   "source": [
    "# Python Cassandra Driver: Tuples"
   ]
  },
  {
   "cell_type": "code",
   "execution_count": null,
   "metadata": {
    "pycharm": {
     "name": "#%%\n"
    }
   },
   "outputs": [],
   "source": [
    "MIGRATION = \"\"\"\n",
    "CREATE TABLE IF NOT EXISTS cassarrow.time_series\n",
    "(\n",
    "    event_date      date,\n",
    "    instrument_id   int,\n",
    "    event_timestamp timestamp,\n",
    "    value           double,\n",
    "    PRIMARY KEY (event_date, instrument_id, event_timestamp)\n",
    ");\n",
    "\"\"\"\n",
    "\n",
    "QUERY = \"SELECT * FROM cassarrow.time_series WHERE event_date = '2019-10-02'\""
   ]
  },
  {
   "cell_type": "markdown",
   "metadata": {},
   "source": [
    "```\n",
    "| event_date   |   instrument_id | event_timestamp     |      value |\n",
    "|:-------------|----------------:|:--------------------|-----------:|\n",
    "| 2019-10-02   |               1 | 2019-10-02 08:00:00 | 0.127755   |\n",
    "| 2019-10-02   |               1 | 2019-10-02 08:15:00 | 0.256553   |\n",
    "| 2019-10-02   |               1 | 2019-10-02 08:30:00 | 0.820371   |\n",
    "| 2019-10-02   |               1 | 2019-10-02 08:45:00 | 0.711016   |\n",
    "| 2019-10-02   |               1 | 2019-10-02 09:00:00 | 0.00108124 |\n",
    "```"
   ]
  },
  {
   "cell_type": "code",
   "execution_count": null,
   "metadata": {
    "pycharm": {
     "name": "#%%\n"
    }
   },
   "outputs": [],
   "source": [
    "cluster = cassandra.cluster.Cluster()\n",
    "session = cluster.connect(\"cassarrow\")"
   ]
  },
  {
   "cell_type": "code",
   "execution_count": null,
   "metadata": {
    "pycharm": {
     "name": "#%%\n"
    }
   },
   "outputs": [],
   "source": [
    "results = list(session.execute(QUERY))"
   ]
  },
  {
   "cell_type": "code",
   "execution_count": null,
   "metadata": {
    "pycharm": {
     "name": "#%%\n"
    }
   },
   "outputs": [],
   "source": [
    "len(results)"
   ]
  },
  {
   "cell_type": "code",
   "execution_count": null,
   "metadata": {
    "pycharm": {
     "name": "#%%\n"
    }
   },
   "outputs": [],
   "source": [
    "results[0]"
   ]
  },
  {
   "cell_type": "code",
   "execution_count": null,
   "metadata": {
    "pycharm": {
     "name": "#%%\n"
    }
   },
   "outputs": [],
   "source": [
    "isinstance(results[0], tuple)"
   ]
  },
  {
   "cell_type": "code",
   "execution_count": null,
   "metadata": {
    "pycharm": {
     "name": "#%%\n"
    }
   },
   "outputs": [],
   "source": [
    "sum(row.value for row in results) / len(results)"
   ]
  },
  {
   "cell_type": "code",
   "execution_count": null,
   "metadata": {
    "pycharm": {
     "name": "#%%\n"
    }
   },
   "outputs": [],
   "source": [
    "%timeit sum(row.value for row in results) / len(results)"
   ]
  },
  {
   "cell_type": "code",
   "execution_count": null,
   "metadata": {
    "pycharm": {
     "name": "#%%\n"
    }
   },
   "outputs": [],
   "source": [
    "actual_size = asizeof(results)\n",
    "humanize.naturalsize(actual_size)"
   ]
  },
  {
   "cell_type": "markdown",
   "metadata": {},
   "source": [
    "```\n",
    "| column          | type      |   bits |   bytes |\n",
    "|:----------------|:----------|-------:|--------:|\n",
    "| event_date      | date      |     32 |       4 |\n",
    "| instrument_id   | int       |     32 |       4 |\n",
    "| event_timestamp | timestamp |     64 |       8 |\n",
    "| value           | double    |     64 |       8 |\n",
    "| total           | -         |    192 |      24 |\n",
    "```"
   ]
  },
  {
   "cell_type": "code",
   "execution_count": null,
   "metadata": {
    "pycharm": {
     "name": "#%%\n"
    }
   },
   "outputs": [],
   "source": [
    "expected_size = len(results) * 24\n",
    "humanize.naturalsize(expected_size, True)"
   ]
  },
  {
   "cell_type": "code",
   "execution_count": null,
   "metadata": {
    "pycharm": {
     "name": "#%%\n"
    }
   },
   "outputs": [],
   "source": [
    "actual_size / expected_size"
   ]
  },
  {
   "cell_type": "code",
   "execution_count": null,
   "metadata": {
    "pycharm": {
     "name": "#%%\n"
    }
   },
   "outputs": [],
   "source": [
    "type(results[0].event_date)"
   ]
  },
  {
   "cell_type": "code",
   "execution_count": null,
   "metadata": {
    "pycharm": {
     "name": "#%%\n"
    }
   },
   "outputs": [],
   "source": [
    "try:\n",
    "    results[0].event_date.strftime(\"%Y-%m-%d\")\n",
    "except AttributeError as e:\n",
    "    print(repr(e))"
   ]
  },
  {
   "cell_type": "markdown",
   "metadata": {
    "pycharm": {
     "name": "#%% md\n"
    }
   },
   "source": [
    "## In Summary:\n",
    "\n",
    "* ❌ Not a great API for analytics\n",
    "* ❌ Slow\n",
    "* ❌ Uses a lot of memory\n",
    "* ❌ Unusual types"
   ]
  },
  {
   "cell_type": "markdown",
   "metadata": {
    "pycharm": {
     "name": "#%% md\n"
    }
   },
   "source": [
    "# The solution: `cassarrow`, convert raw data directly to Apache Arrow\n",
    "\n",
    "```\n",
    "+-------------------+  Network   +----------+  Python Driver   +--------+\n",
    "| Cassandra Cluster | ---------> | Raw Data | ---------------> | Tuples |\n",
    "+-------------------+            +----------+                  +--------+\n",
    "\n",
    "\n",
    "+-------------------+  Network   +----------+  C++ Code   +-------------+\n",
    "| Cassandra Cluster | ---------> | Raw Data | ----------> | Arrow Table |\n",
    "+-------------------+            +----------+             +-------------+\n",
    "\n",
    "\n",
    "```"
   ]
  },
  {
   "cell_type": "markdown",
   "metadata": {
    "pycharm": {
     "name": "#%% md\n"
    }
   },
   "source": [
    "![Row to Column](https://arrow.apache.org/img/simd.png)"
   ]
  },
  {
   "cell_type": "markdown",
   "metadata": {
    "pycharm": {
     "name": "#%% md\n"
    }
   },
   "source": [
    "# Step 1: Convert the cassandra metadata to an Arrow `Schema`\n",
    "\n",
    "\n",
    "## Native types\n",
    "\n",
    "\n",
    "| Cassandra   | pyarrow              | Note         |\n",
    "|:------------|:---------------------|:-------------|\n",
    "| ascii       | `pa.string()`        |              |\n",
    "| bigint      | `pa.int64()`         |              |\n",
    "| blob        | `pa.binary()`        |              |\n",
    "| boolean     | `pa.bool_()`         |              |\n",
    "| date        | `pa.date32()`        |              |\n",
    "| decimal     |                      | Incompatible |\n",
    "| double      | `pa.float64()`       |              |\n",
    "| duration    | `pa.duration(\"ns\")`  |              |\n",
    "| float       | `pa.float32()`       |              |\n",
    "| int         | `pa.int32()`         |              |\n",
    "| smallint    | `pa.int16()`         |              |\n",
    "| text        | `pa.string()`        |              |\n",
    "| time        | `pa.time64(\"ns\")`    |              |\n",
    "| timestamp   | `pa.timestamp(\"ms\")` |              |\n",
    "| timeuuid    | `pa.binary(16)`      |              |\n",
    "| tinyint     | `pa.int8()`          |              |\n",
    "| uuid        | `pa.binary(16)`      |              |\n",
    "| varchar     | `pa.string()`        |              |\n",
    "| varint      |                      | Incompatible |\n",
    "\n",
    "\n",
    "## Collections / UDT\n",
    "\n",
    "| Cassandra   | pyarrow     | Note   |\n",
    "|:------------|:------------|:-------|\n",
    "| list        | `pa.list_`  |        |\n",
    "| map         | `pa.map_`   |        |\n",
    "| set         | `pa.list_`  |        |\n",
    "| udt         | `pa.struct` |        |\n"
   ]
  },
  {
   "cell_type": "markdown",
   "metadata": {
    "pycharm": {
     "name": "#%% md\n"
    }
   },
   "source": [
    "# Step 2: Converting the data\n",
    "\n",
    "```\n",
    "+------------------+     +----------------+           +--------------+     +-------+\n",
    "|  Date32Builder   | --> |  Date32Array   | ------+-> | Record Batch | --> | Table |\n",
    "+------------------+     +----------------+       |   +--------------+     +-------+\n",
    "                                                  |\n",
    "                                                  |\n",
    "                                                  |\n",
    "+------------------+     +----------------+       |\n",
    "| TimestampBuilder | --> | TimestampArray | ------+\n",
    "+------------------+     +----------------+       |\n",
    "                                                  |\n",
    "                                                  |\n",
    "                                                  |\n",
    "+------------------+     +----------------+       |\n",
    "|  DoubleBuilder   | --> |  DoubleArray   | ------+\n",
    "+------------------+     +----------------+       |\n",
    "                                                  |\n",
    "                                                  |\n",
    "                                                  |\n",
    "+------------------+     +----------------+       |\n",
    "|   Int32Builder   | --> |   Int32Array   | ------+\n",
    "+------------------+     +----------------+\n",
    "```"
   ]
  },
  {
   "cell_type": "code",
   "execution_count": null,
   "metadata": {
    "pycharm": {
     "name": "#%%\n"
    }
   },
   "outputs": [],
   "source": [
    "with cassarrow.install_cassarrow(session) as cassarrow_session:\n",
    "    table = cassarrow.result_set_to_table(cassarrow_session.execute(QUERY))"
   ]
  },
  {
   "cell_type": "code",
   "execution_count": null,
   "metadata": {
    "pycharm": {
     "name": "#%%\n"
    }
   },
   "outputs": [],
   "source": [
    "table[:5]"
   ]
  },
  {
   "cell_type": "code",
   "execution_count": null,
   "metadata": {
    "pycharm": {
     "name": "#%%\n"
    }
   },
   "outputs": [],
   "source": [
    "pc.mean(table[\"value\"])"
   ]
  },
  {
   "cell_type": "code",
   "execution_count": null,
   "metadata": {
    "pycharm": {
     "name": "#%%\n"
    }
   },
   "outputs": [],
   "source": [
    "%timeit pc.mean(table['value']).as_py()"
   ]
  },
  {
   "cell_type": "code",
   "execution_count": null,
   "metadata": {
    "pycharm": {
     "name": "#%%\n"
    }
   },
   "outputs": [],
   "source": [
    "humanize.naturalsize(table.nbytes)"
   ]
  },
  {
   "cell_type": "code",
   "execution_count": null,
   "metadata": {},
   "outputs": [],
   "source": [
    "table.schema"
   ]
  },
  {
   "cell_type": "code",
   "execution_count": null,
   "metadata": {
    "pycharm": {
     "name": "#%%\n"
    }
   },
   "outputs": [],
   "source": [
    "table.to_pandas().head()"
   ]
  },
  {
   "cell_type": "markdown",
   "metadata": {
    "pycharm": {
     "name": "#%% md\n"
    }
   },
   "source": [
    "## Arrow summary\n",
    "\n",
    "* ✅ Great API for analytics\n",
    "* ✅ Fast data manipulation\n",
    "* ✅ Memory efficient\n",
    "* ✅ Fast convertion\n",
    "* ✅ Schema available\n",
    "* ✅ No special/proprietary types"
   ]
  },
  {
   "cell_type": "markdown",
   "metadata": {
    "pycharm": {
     "name": "#%% md\n"
    }
   },
   "source": [
    "# Benchmark"
   ]
  },
  {
   "cell_type": "code",
   "execution_count": null,
   "metadata": {
    "pycharm": {
     "name": "#%%\n"
    }
   },
   "outputs": [],
   "source": [
    "def execute_default(session, query):\n",
    "    results = session.execute(query)\n",
    "    return list(results)"
   ]
  },
  {
   "cell_type": "code",
   "execution_count": null,
   "metadata": {
    "pycharm": {
     "name": "#%%\n"
    }
   },
   "outputs": [],
   "source": [
    "def execute_cassarrow(session, query):\n",
    "    with cassarrow.install_cassarrow(session) as cassarrow_session:\n",
    "        results = cassarrow_session.execute(query)\n",
    "    return cassarrow.result_set_to_table(results)"
   ]
  },
  {
   "cell_type": "code",
   "execution_count": null,
   "metadata": {
    "pycharm": {
     "name": "#%%\n"
    }
   },
   "outputs": [],
   "source": [
    "%timeit execute_default(session, QUERY)"
   ]
  },
  {
   "cell_type": "code",
   "execution_count": null,
   "metadata": {
    "pycharm": {
     "name": "#%%\n"
    }
   },
   "outputs": [],
   "source": [
    "%timeit execute_cassarrow(session, QUERY)"
   ]
  },
  {
   "cell_type": "code",
   "execution_count": null,
   "metadata": {
    "pycharm": {
     "name": "#%%\n"
    }
   },
   "outputs": [],
   "source": [
    "def get_binary(name: str) -> bytes:\n",
    "    full_name = os.path.join(\"tests\", \"select\", name)\n",
    "    with open(full_name, \"rb\") as fp:\n",
    "        return fp.read()\n",
    "\n",
    "\n",
    "data = get_binary(\"time_series/0011.bin\")"
   ]
  },
  {
   "cell_type": "code",
   "execution_count": null,
   "metadata": {
    "pycharm": {
     "name": "#%%\n"
    }
   },
   "outputs": [],
   "source": [
    "def parse_default(data: bytes) -> list[tuple]:\n",
    "    msg_arrow = cassandra.protocol._ProtocolHandler.decode_message(\n",
    "        5, {}, 3, 0, 8, data, None, []\n",
    "    )\n",
    "    return msg_arrow.parsed_rows"
   ]
  },
  {
   "cell_type": "code",
   "execution_count": null,
   "metadata": {
    "pycharm": {
     "name": "#%%\n"
    }
   },
   "outputs": [],
   "source": [
    "def parse_cassarrow(data) -> pa.RecordBatch:\n",
    "    msg_arrow = cassarrow.impl.ArrowProtocolHandler.decode_message(\n",
    "        5, {}, 3, 0, 8, data, None, []\n",
    "    )\n",
    "    return msg_arrow.parsed_rows"
   ]
  },
  {
   "cell_type": "code",
   "execution_count": null,
   "metadata": {
    "pycharm": {
     "name": "#%%\n"
    }
   },
   "outputs": [],
   "source": [
    "%timeit parse_default(data)"
   ]
  },
  {
   "cell_type": "code",
   "execution_count": null,
   "metadata": {
    "pycharm": {
     "name": "#%%\n"
    }
   },
   "outputs": [],
   "source": [
    "%timeit parse_cassarrow(data)"
   ]
  },
  {
   "cell_type": "markdown",
   "metadata": {},
   "source": [
    "# Conclusion\n",
    "\n",
    "* Check the code on https://github.com/0x26res/cassarrow\n",
    "* Install it: `pip install cassarrow`\n",
    "* Apply the same method to a similar problem!\n"
   ]
  },
  {
   "cell_type": "code",
   "execution_count": null,
   "metadata": {},
   "outputs": [],
   "source": []
  }
 ],
 "metadata": {
  "kernelspec": {
   "display_name": "",
   "language": "python",
   "name": ""
  },
  "language_info": {
   "codemirror_mode": {
    "name": "ipython",
    "version": 3
   },
   "file_extension": ".py",
   "mimetype": "text/x-python",
   "name": "python",
   "nbconvert_exporter": "python",
   "pygments_lexer": "ipython3",
   "version": "3.10.4"
  }
 },
 "nbformat": 4,
 "nbformat_minor": 1
}
