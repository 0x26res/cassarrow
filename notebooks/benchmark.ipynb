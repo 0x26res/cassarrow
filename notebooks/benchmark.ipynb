{
 "cells": [
  {
   "cell_type": "code",
   "execution_count": null,
   "id": "38f6d58c",
   "metadata": {},
   "outputs": [],
   "source": [
    "%cd .."
   ]
  },
  {
   "cell_type": "code",
   "execution_count": null,
   "id": "7b1003d6",
   "metadata": {
    "pycharm": {
     "name": "#%%\n"
    }
   },
   "outputs": [],
   "source": [
    "import os\n",
    "\n",
    "import cassandra.cluster\n",
    "import cassandra.protocol\n",
    "from pympler.asizeof import asizeof\n",
    "\n",
    "import cassarrow\n",
    "import cassarrow.impl"
   ]
  },
  {
   "cell_type": "code",
   "execution_count": null,
   "id": "7155f71b",
   "metadata": {
    "pycharm": {
     "name": "#%%\n"
    }
   },
   "outputs": [],
   "source": [
    "QUERY = \"SELECT * FROM cassarrow.time_series WHERE event_date = '2019-10-02'\""
   ]
  },
  {
   "cell_type": "code",
   "execution_count": null,
   "id": "3d85de49",
   "metadata": {
    "pycharm": {
     "name": "#%%\n"
    }
   },
   "outputs": [],
   "source": [
    "cluster = cassandra.cluster.Cluster()\n",
    "session = cluster.connect(\"cassarrow\")"
   ]
  },
  {
   "cell_type": "code",
   "execution_count": null,
   "id": "59f140c9",
   "metadata": {
    "pycharm": {
     "name": "#%%\n"
    }
   },
   "outputs": [],
   "source": [
    "def execute_default(session, query):\n",
    "    results = session.execute(query)\n",
    "    return list(results)"
   ]
  },
  {
   "cell_type": "code",
   "execution_count": null,
   "id": "1b635137",
   "metadata": {
    "pycharm": {
     "name": "#%%\n"
    }
   },
   "outputs": [],
   "source": [
    "def execute_cassarrow(session, query):\n",
    "    with cassarrow.install_cassarrow(session) as cassarrow_session:\n",
    "        results = cassarrow_session.execute(query)\n",
    "    return cassarrow.result_set_to_table(results)"
   ]
  },
  {
   "cell_type": "code",
   "execution_count": null,
   "id": "9a530229",
   "metadata": {
    "pycharm": {
     "name": "#%%\n"
    }
   },
   "outputs": [],
   "source": [
    "%timeit execute_default(session, QUERY)"
   ]
  },
  {
   "cell_type": "code",
   "execution_count": null,
   "id": "7e4292ca",
   "metadata": {
    "pycharm": {
     "name": "#%%\n"
    }
   },
   "outputs": [],
   "source": [
    "%timeit execute_cassarrow(session, QUERY)"
   ]
  },
  {
   "cell_type": "code",
   "execution_count": null,
   "id": "1f210d18",
   "metadata": {
    "pycharm": {
     "name": "#%%\n"
    }
   },
   "outputs": [],
   "source": [
    "def get_binary(name: str) -> bytes:\n",
    "    full_name = os.path.join(\"tests\", \"select\", name)\n",
    "    with open(full_name, \"rb\") as fp:\n",
    "        return fp.read()\n",
    "\n",
    "\n",
    "data = get_binary(\"time_series/0011.bin\")"
   ]
  },
  {
   "cell_type": "code",
   "execution_count": null,
   "id": "139c969e",
   "metadata": {
    "pycharm": {
     "name": "#%%\n"
    }
   },
   "outputs": [],
   "source": [
    "def parse_arrow(data):\n",
    "    msg_arrow = cassarrow.impl.ArrowProtocolHandler.decode_message(\n",
    "        5, {}, 3, 0, 8, data, None, []\n",
    "    )\n",
    "    return msg_arrow.parsed_rows\n",
    "\n",
    "\n",
    "record_batch = parse_arrow(data)"
   ]
  },
  {
   "cell_type": "code",
   "execution_count": null,
   "outputs": [],
   "source": [
    "def parse_default(data):\n",
    "    msg_arrow = cassandra.protocol._ProtocolHandler.decode_message(\n",
    "        5, {}, 3, 0, 8, data, None, []\n",
    "    )\n",
    "    return msg_arrow.parsed_rows\n",
    "\n",
    "\n",
    "tuples = parse_tuple(data)"
   ],
   "metadata": {
    "collapsed": false,
    "pycharm": {
     "name": "#%%\n"
    }
   }
  },
  {
   "cell_type": "code",
   "execution_count": null,
   "outputs": [],
   "source": [
    "%timeit parse_arrow(data)"
   ],
   "metadata": {
    "collapsed": false,
    "pycharm": {
     "name": "#%%\n"
    }
   }
  },
  {
   "cell_type": "code",
   "execution_count": null,
   "outputs": [],
   "source": [
    "%timeit parse_default(data)"
   ],
   "metadata": {
    "collapsed": false,
    "pycharm": {
     "name": "#%%\n"
    }
   }
  },
  {
   "cell_type": "code",
   "execution_count": null,
   "outputs": [],
   "source": [
    "asizeof(tuples) / asizeof(record_batch)"
   ],
   "metadata": {
    "collapsed": false,
    "pycharm": {
     "name": "#%%\n"
    }
   }
  },
  {
   "cell_type": "code",
   "execution_count": null,
   "outputs": [],
   "source": [],
   "metadata": {
    "collapsed": false,
    "pycharm": {
     "name": "#%%\n"
    }
   }
  },
  {
   "cell_type": "code",
   "execution_count": null,
   "id": "f1e5037a",
   "metadata": {
    "pycharm": {
     "name": "#%%\n"
    }
   },
   "outputs": [],
   "source": []
  },
  {
   "cell_type": "code",
   "execution_count": null,
   "id": "d94c5b58",
   "metadata": {
    "pycharm": {
     "name": "#%%\n"
    }
   },
   "outputs": [],
   "source": []
  },
  {
   "cell_type": "code",
   "execution_count": null,
   "id": "a6f8db70",
   "metadata": {},
   "outputs": [],
   "source": []
  }
 ],
 "metadata": {
  "kernelspec": {
   "display_name": "Python 3 (ipykernel)",
   "language": "python",
   "name": "python3"
  },
  "language_info": {
   "codemirror_mode": {
    "name": "ipython",
    "version": 3
   },
   "file_extension": ".py",
   "mimetype": "text/x-python",
   "name": "python",
   "nbconvert_exporter": "python",
   "pygments_lexer": "ipython3",
   "version": "3.10.4"
  }
 },
 "nbformat": 4,
 "nbformat_minor": 5
}